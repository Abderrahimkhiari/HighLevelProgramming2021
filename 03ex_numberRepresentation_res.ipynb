{
  "nbformat": 4,
  "nbformat_minor": 0,
  "metadata": {
    "kernelspec": {
      "display_name": "Python 3",
      "language": "python",
      "name": "python3"
    },
    "language_info": {
      "codemirror_mode": {
        "name": "ipython",
        "version": 3
      },
      "file_extension": ".py",
      "mimetype": "text/x-python",
      "name": "python",
      "nbconvert_exporter": "python",
      "pygments_lexer": "ipython3",
      "version": "3.8.5"
    },
    "colab": {
      "name": "03ex_numberRepresentation_res.ipynb",
      "provenance": [],
      "collapsed_sections": []
    }
  },
  "cells": [
    {
      "cell_type": "markdown",
      "metadata": {
        "id": "j7HxG4eawLwZ"
      },
      "source": [
        "1\\. Write a function that converts numbers among the bin, dec, and hex representations (bin<->dec<->hex)"
      ]
    },
    {
      "cell_type": "code",
      "metadata": {
        "id": "XOskNbcfzJOE"
      },
      "source": [
        "def converter(num, Type):\n",
        "  if Type == \"bin\": # convert number to binary representation\n",
        "    if type(num) == int:\n",
        "      return bin(num)\n",
        "    elif num[:2] == \"0b\":\n",
        "      return num\n",
        "    else:\n",
        "      return bin(int(num,16))\n",
        "  if Type == \"hex\": # convert number to hexadecimal representation\n",
        "    if type(num) == int:\n",
        "      return hex(num)\n",
        "    elif num[:2] == \"0x\":\n",
        "      return num\n",
        "    else:\n",
        "      return hex(int(num,16))\n",
        "  else:            # convert number to decimal representation\n",
        "    if type(num) == int:\n",
        "      return num\n",
        "    elif num[:2] == \"0b\":\n",
        "      return int(num,2)\n",
        "    else:\n",
        "      return int(num,16)\n",
        "    "
      ],
      "execution_count": null,
      "outputs": []
    },
    {
      "cell_type": "code",
      "metadata": {
        "colab": {
          "base_uri": "https://localhost:8080/"
        },
        "id": "P34fe88GOpqW",
        "outputId": "4e63b366-993d-4372-9a63-1ab3346a974a"
      },
      "source": [
        "a = 52\n",
        "a_bin = bin(a)\n",
        "a_hex = hex(a)\n",
        "\n",
        "print(f\"Test value a = {a}\")\n",
        "print(f\"check if converter function convert dec to bin : {a_bin == converter(a,'bin')}\")\n",
        "print(f\"check if converter function convert dec to hex : {a_hex == converter(a,'hex')}\")\n",
        "print(f\"check if converter function convert hex to bin : {a_bin == converter(a_hex,'bin')}\")\n",
        "print(f\"check if converter function convert hex to dec : {a == converter(a_hex,'dec')}\")"
      ],
      "execution_count": null,
      "outputs": [
        {
          "output_type": "stream",
          "name": "stdout",
          "text": [
            "Test value a = 52\n",
            "check if converter function convert dec to bin : True\n",
            "check if converter function convert dec to hex : True\n",
            "check if converter function convert hex to bin : True\n",
            "check if converter function convert hex to dec : True\n"
          ]
        }
      ]
    },
    {
      "cell_type": "markdown",
      "metadata": {
        "id": "iMP-FKQYwLwi"
      },
      "source": [
        "2\\. Write a function that converts a 32 bit word into a single precision floating point (i.e. interprets the various bits as sign, mantissa and exponent) and check its validity."
      ]
    },
    {
      "cell_type": "code",
      "metadata": {
        "id": "4pLGlC-vwLwj"
      },
      "source": [
        "def wordtofloat(word):\n",
        "  try:\n",
        "    assert len(word) == 32 \n",
        "    assert set(word) == set([\"0\",\"1\"])\n",
        "    f = word[-23:][::-1]\n",
        "    e = word[1:9]\n",
        "    s = word[0]\n",
        "    mantissa = 1\n",
        "    for i, b in enumerate(f):\n",
        "      mantissa += int(b) * (2 ** (i-23))\n",
        "    e=int(e,2)\n",
        "    x=(-1)**int(s) * mantissa * 2**(e-127)\n",
        "    return x\n",
        "  except :\n",
        "    print(\"Word needs to have 32 bit of 0s and 1s\")"
      ],
      "execution_count": null,
      "outputs": []
    },
    {
      "cell_type": "code",
      "metadata": {
        "colab": {
          "base_uri": "https://localhost:8080/"
        },
        "id": "SbU_my9TQgAe",
        "outputId": "735117bb-24b7-497c-b9f3-7e026b770913"
      },
      "source": [
        "a = -6.59\n",
        "a_raw_bin = \"11000000110100101110000101001000\"\n",
        "print(f\"Test variable a = {a}\")\n",
        "print(f\"bin word to float result = {wordtofloat(a_raw_bin):.2e}\")"
      ],
      "execution_count": null,
      "outputs": [
        {
          "output_type": "stream",
          "name": "stdout",
          "text": [
            "Test variable a = -6.59\n",
            "bin word to float result = -6.59e+00\n"
          ]
        }
      ]
    },
    {
      "cell_type": "markdown",
      "metadata": {
        "id": "8Gq7xZUgwLwj"
      },
      "source": [
        "3\\. Write a program to determine the underflow and overflow limits (within a factor of 2) for python on your computer. \n",
        "\n",
        "**Tip**: define two variables initialized to 1 and halve/double them for a sufficient amount of times to exceed the under/over-flow limits  "
      ]
    },
    {
      "cell_type": "code",
      "metadata": {
        "id": "6iQEUmSwwLwk",
        "colab": {
          "base_uri": "https://localhost:8080/"
        },
        "outputId": "b6661940-d4ac-43c9-af3f-17c5d55dd6e9"
      },
      "source": [
        "underflow = overflow = 1.0;\n",
        "count_un = count_ov = 0;\n",
        "while underflow != underflow / 2:\n",
        "  underflow /= 2\n",
        "  count_un += 1\n",
        "print(f\"{count_un} times to reach underflow {float(2**(-count_un+1))} within a factor of 2\")\n",
        "while overflow != overflow * 2:\n",
        "  overflow *= 2\n",
        "  count_ov += 1\n",
        "print(f\"{count_ov} times to reach overflow {float(2**(count_ov-1))} within a factor of 2\")\n"
      ],
      "execution_count": null,
      "outputs": [
        {
          "output_type": "stream",
          "name": "stdout",
          "text": [
            "1075 times to reach underflow 5e-324 within a factor of 2\n",
            "1024 times to reach overflow 8.98846567431158e+307 within a factor of 2\n"
          ]
        }
      ]
    },
    {
      "cell_type": "markdown",
      "metadata": {
        "id": "rZotjDdIwLwk"
      },
      "source": [
        "4\\. Write a program to determine the machine precision\n",
        "\n",
        "**Tip**: define a new variable by adding an increasingly smaller value (in the same way as the previous problem) and check when the addition starts to have no effect on the number"
      ]
    },
    {
      "cell_type": "code",
      "metadata": {
        "id": "L91PjnAhwLwl",
        "colab": {
          "base_uri": "https://localhost:8080/"
        },
        "outputId": "4c214621-ccb6-40f0-8134-55b17de852b4"
      },
      "source": [
        "num = 1\n",
        "while 1+num != 1:\n",
        "  num /= 2\n",
        "print(f\"We have {num} where 1 + {num} = {1+num}\")\n",
        "print(f\"machine precision is {num*2} where 1 + {num*2} = {1+num*2}\")"
      ],
      "execution_count": null,
      "outputs": [
        {
          "output_type": "stream",
          "name": "stdout",
          "text": [
            "We have 1.1102230246251565e-16 where 1 + 1.1102230246251565e-16 = 1.0\n",
            "machine precision is 2.220446049250313e-16 where 1 + 2.220446049250313e-16 = 1.0000000000000002\n"
          ]
        }
      ]
    },
    {
      "cell_type": "markdown",
      "metadata": {
        "id": "UWPHkWsKwLwm"
      },
      "source": [
        "5\\. Write a function that takes in input three parameters $a$, $b$ and $c$ and prints out the two solutions to the quadratic equation $ax^2+bx+c=0$ using the standard formula:\n",
        "$$\n",
        "x=\\frac{-b\\pm\\sqrt{b^2-4ac}}{2a}\n",
        "$$\n",
        "\n",
        "(a) use the program to compute the solution for $a=0.001$, $b=1000$ and $c=0.001$\n",
        "\n",
        "(b) re-express the standard solution formula by multiplying the numerator and the denominator by $-b\\mp\\sqrt{b^2-4ac}$ and again find the solution for $a=0.001$, $b=1000$ and $c=0.001$. How does it compare with what has been previously obtained, and why?\n",
        "\n",
        "(c) write a function that computes the roots of a quadratic equation accurately in all cases"
      ]
    },
    {
      "cell_type": "code",
      "metadata": {
        "id": "jsZCDGuywLwn"
      },
      "source": [
        "from math import sqrt\n",
        "#a\n",
        "def calcul_sola(a,b,delta):\n",
        "  if (delta == 0):\n",
        "    return -b/(2*a)\n",
        "  x1 = (-b + delta) / (2 * a)\n",
        "  x2 = (-b - delta) / (2 * a)\n",
        "  return x1,x2\n",
        "#b\n",
        "def calcul_solb(a,b,c,delta):\n",
        "  if (delta == 0):\n",
        "    return -b/(2*a)\n",
        "  x1 = (2 * c) / (-b - delta) \n",
        "  x2 = (2 * c) / (-b + delta)\n",
        "  return x1,x2\n",
        "#c\n",
        "def calcul_solc(a,b,c,delta):\n",
        "  if (delta == 0):\n",
        "    return -b/(2*a)\n",
        "  x1 = (2 * c) / (-b - delta) \n",
        "  x2 = (-b - delta) / (2 * a)\n",
        "  return x1,x2\n",
        "\n",
        "def find_sol(a,b,c):\n",
        "  delta= b**2 - (4 * a * c)\n",
        "  if (delta >= 0):\n",
        "    print(f\"solution a {calcul_sola(a,b,sqrt(delta))}\")\n",
        "    print(f\"solution b {calcul_solb(a,b,c,sqrt(delta))}\")\n",
        "    print(f\"solution c {calcul_solc(a,b,c,sqrt(delta))}\")\n",
        "  else:\n",
        "    print(\"No solutions!\")\n",
        "    return -1"
      ],
      "execution_count": null,
      "outputs": []
    },
    {
      "cell_type": "code",
      "metadata": {
        "colab": {
          "base_uri": "https://localhost:8080/"
        },
        "id": "haH3zqg6DqhE",
        "outputId": "5fd4ef02-effc-4ae1-bd62-ee8f1da58b5c"
      },
      "source": [
        "find_sol(0.001,1000,0.001)"
      ],
      "execution_count": null,
      "outputs": [
        {
          "output_type": "stream",
          "name": "stdout",
          "text": [
            "solution a (-9.999894245993346e-07, -999999.999999)\n",
            "solution b (-1.000000000001e-06, -1000010.5755125057)\n",
            "solution c (-1.000000000001e-06, -999999.999999)\n"
          ]
        }
      ]
    },
    {
      "cell_type": "markdown",
      "metadata": {
        "id": "y26IkcWgwLwn"
      },
      "source": [
        "6\\. Write a program that implements the function $f(x)=x(x−1)$\n",
        "\n",
        "(a) Calculate the derivative of the function at the point $x = 1$ using the derivative definition:\n",
        "\n",
        "$$\n",
        "\\frac{{\\rm d}f}{{\\rm d}x} = \\lim_{\\delta\\to0} \\frac{f(x+\\delta)-f(x)}{\\delta}\n",
        "$$\n",
        "\n",
        "with $\\delta = 10^{−2}$. Calculate the true value of the same derivative analytically and compare it with the answer your program gives. The two will not agree perfectly. Why?\n",
        "\n",
        "(b) Repeat the calculation for $\\delta = 10^{−4}, 10^{−6}, 10^{−8}, 10^{−10}, 10^{−12}$ and $10^{−14}$. How does the accuracy scales with $\\delta$?"
      ]
    },
    {
      "cell_type": "code",
      "metadata": {
        "id": "gSkJhlXfwLwo",
        "colab": {
          "base_uri": "https://localhost:8080/"
        },
        "outputId": "50e9d4a7-d7ac-4efb-cb2c-e8addcdf4710"
      },
      "source": [
        "f = lambda x : x * (x - 1)\n",
        "\n",
        "f_der = lambda x : (2 * x)-1\n",
        "\n",
        "def derivative(f,x,delta):\n",
        "  return (f(x + delta) - f(x)) / delta\n",
        "\n",
        "analytic_der = f_der(1)\n",
        "\n",
        "delta=[10**-i for i in range(2,15,2)]\n",
        "for d in delta:\n",
        "  func_der = derivative(f,1,d)\n",
        "  print(f\"analytic apporach f'(1)={analytic_der} and function f'(1)={func_der} with error = {abs(analytic_der-func_der)} for delta = {d} \")"
      ],
      "execution_count": null,
      "outputs": [
        {
          "output_type": "stream",
          "name": "stdout",
          "text": [
            "analytic apporach f'(1)=1 and function f'(1)=1.010000000000001 with error = 0.010000000000000897 for delta = 0.01 \n",
            "analytic apporach f'(1)=1 and function f'(1)=1.0000999999998899 with error = 9.999999988985486e-05 for delta = 0.0001 \n",
            "analytic apporach f'(1)=1 and function f'(1)=1.0000009999177333 with error = 9.99917733279787e-07 for delta = 1e-06 \n",
            "analytic apporach f'(1)=1 and function f'(1)=1.0000000039225287 with error = 3.922528746258536e-09 for delta = 1e-08 \n",
            "analytic apporach f'(1)=1 and function f'(1)=1.000000082840371 with error = 8.284037100736441e-08 for delta = 1e-10 \n",
            "analytic apporach f'(1)=1 and function f'(1)=1.0000889005833413 with error = 8.890058334132256e-05 for delta = 1e-12 \n",
            "analytic apporach f'(1)=1 and function f'(1)=0.9992007221626509 with error = 0.0007992778373491216 for delta = 1e-14 \n"
          ]
        }
      ]
    },
    {
      "cell_type": "markdown",
      "metadata": {
        "id": "TUj42E4gwLwp"
      },
      "source": [
        "7\\. Consider the integral of the semicircle of radius 1:\n",
        "$$\n",
        "I=\\int_{-1}^{1} \\sqrt(1-x^2) {\\rm d}x\n",
        "$$\n",
        "which is known to be $I=\\frac{\\pi}{2}=1.57079632679...$.\n",
        "\n",
        "Alternatively we can use the Riemann definition of the integral:\n",
        "$$\n",
        "I=\\lim_{N\\to\\infty} \\sum_{k=1}^{N} h y_k \n",
        "$$\n",
        "\n",
        "with $h=2/N$ the width of each of the $N$ slices the domain is divided into and where\n",
        "$y_k$ is the value of the function at the $k-$th slice.\n",
        "\n",
        "(a) Write a program to compute the integral with $N=100$. How does the result compare to the true value?\n",
        "\n",
        "(b) How much can $N$ be increased if the computation needs to be run in less than a second? What is the gain in running it for 1 minute? \n"
      ]
    },
    {
      "cell_type": "code",
      "metadata": {
        "id": "Jlu3s6MiwLwp",
        "colab": {
          "base_uri": "https://localhost:8080/"
        },
        "outputId": "bd06462c-323c-47e8-d7ec-d850dbec9383"
      },
      "source": [
        "from math import sqrt,pi\n",
        "\n",
        "f = lambda x : sqrt(1-x**2)\n",
        "def interval(N):\n",
        "  h = 2/N\n",
        "  return [-1 + h*(i+.5) for i in range(N)]\n",
        "def integral(N):\n",
        "  interval_=interval(N)\n",
        "  res=0\n",
        "  for k in interval_:\n",
        "    res += 2/N * f(k)\n",
        "  return res # sum([2/N * f(k) for k in interval_]) use all the RAM \n",
        "I_true = pi/2\n",
        "print(f\"N = 100: I = {integral(100)} , error = {abs(I_true-integral(100)):.2e}\")"
      ],
      "execution_count": null,
      "outputs": [
        {
          "output_type": "stream",
          "name": "stdout",
          "text": [
            "N = 100: I = 1.5712827762297958 , error = 4.86e-04\n"
          ]
        }
      ]
    },
    {
      "cell_type": "code",
      "metadata": {
        "colab": {
          "base_uri": "https://localhost:8080/"
        },
        "id": "DxSSNN7HS5GC",
        "outputId": "037a11aa-d2b8-4ae3-d24d-17bf98ea1fbf"
      },
      "source": [
        "import time\n",
        "\n",
        "N=10\n",
        "MAX = 100000000 # max N for RAM usage\n",
        "t=0\n",
        "while (t < 60 and N<=MAX):\n",
        "  start = time.time()\n",
        "  I=integral(N)\n",
        "  t = time.time() - start\n",
        "  print(f\"N = {N}: I = {I} , error = {abs(I_true-I):.2e}, time = {t:.5f}s\")\n",
        "  N *= 10\n",
        "N_min=N\n",
        "t_min=t\n",
        "I_min=I"
      ],
      "execution_count": null,
      "outputs": [
        {
          "output_type": "stream",
          "name": "stdout",
          "text": [
            "N = 10: I = 1.5859939118065425 , error = 1.52e-02, time = 0.00002s\n",
            "N = 100: I = 1.5712827762297958 , error = 4.86e-04, time = 0.00006s\n",
            "N = 1000: I = 1.5708117284099568 , error = 1.54e-05, time = 0.00046s\n",
            "N = 10000: I = 1.5707968138960273 , error = 4.87e-07, time = 0.00444s\n",
            "N = 100000: I = 1.5707963421985764 , error = 1.54e-08, time = 0.05078s\n",
            "N = 1000000: I = 1.5707963272820449 , error = 4.87e-10, time = 0.46725s\n",
            "N = 10000000: I = 1.5707963268100595 , error = 1.52e-11, time = 4.94260s\n",
            "N = 100000000: I = 1.5707963267955443 , error = 6.48e-13, time = 48.46740s\n"
          ]
        }
      ]
    },
    {
      "cell_type": "code",
      "metadata": {
        "colab": {
          "base_uri": "https://localhost:8080/"
        },
        "id": "-cLMlCzSWLCJ",
        "outputId": "f84134a6-b931-4915-dacf-afe23ffd7766"
      },
      "source": [
        "N=10\n",
        "MAX = 100000000 # max N for RAM usage\n",
        "t=0\n",
        "while (t < 1 and N<=MAX):\n",
        "  start = time.time()\n",
        "  I=integral(N)\n",
        "  t = time.time() - start\n",
        "  print(f\"N = {N}: I = {I} , error = {abs(I_true-I):.2e}, time = {t:.5f}s\")\n",
        "  N *= 4\n",
        "N_s=N\n",
        "t_s=t\n",
        "I_s=I"
      ],
      "execution_count": null,
      "outputs": [
        {
          "output_type": "stream",
          "name": "stdout",
          "text": [
            "N = 10: I = 1.5859939118065425 , error = 1.52e-02, time = 0.00002s\n",
            "N = 40: I = 1.5727152943395197 , error = 1.92e-03, time = 0.00003s\n",
            "N = 160: I = 1.5710368062158828 , error = 2.40e-04, time = 0.00009s\n",
            "N = 640: I = 1.5708264057854742 , error = 3.01e-05, time = 0.00039s\n",
            "N = 2560: I = 1.5708000872648116 , error = 3.76e-06, time = 0.00126s\n",
            "N = 10240: I = 1.5707967968722647 , error = 4.70e-07, time = 0.00459s\n",
            "N = 40960: I = 1.570796385555157 , error = 5.88e-08, time = 0.03236s\n",
            "N = 163840: I = 1.570796334139958 , error = 7.35e-09, time = 0.10626s\n",
            "N = 655360: I = 1.5707963277130743 , error = 9.18e-10, time = 0.36634s\n",
            "N = 2621440: I = 1.570796326909773 , error = 1.15e-10, time = 1.35593s\n"
          ]
        }
      ]
    },
    {
      "cell_type": "code",
      "metadata": {
        "colab": {
          "base_uri": "https://localhost:8080/"
        },
        "id": "iCfazDwkR9Pr",
        "outputId": "9e79ed93-57f3-4b03-ab3e-a659352104ed"
      },
      "source": [
        "print(f\"N can be inscreased to {N_s} for time = {t_s:.5f}, with error = {abs(I_true-I_s):.2e}\")\n",
        "print(f\"N can be inscreased to {N_min} for time = {t_min:.5f}, with error = {abs(I_true-I_min):.2e}\")\n",
        "print(f\"The gain of running for 1 minute is a factor of 10^-3 in respect to running for around one second\")"
      ],
      "execution_count": null,
      "outputs": [
        {
          "output_type": "stream",
          "name": "stdout",
          "text": [
            "N can be inscreased to 10485760 for time = 1.35593, with error = 1.15e-10\n",
            "N can be inscreased to 1000000000 for time = 48.46740, with error = 6.48e-13\n",
            "The gain of running for 1 minute is a factor of 10^-3 in respect to running for around one second\n"
          ]
        }
      ]
    },
    {
      "cell_type": "code",
      "metadata": {
        "id": "e6cjqQ2qTcuF"
      },
      "source": [
        ""
      ],
      "execution_count": null,
      "outputs": []
    }
  ]
}