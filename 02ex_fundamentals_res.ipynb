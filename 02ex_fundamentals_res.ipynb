{
  "nbformat": 4,
  "nbformat_minor": 0,
  "metadata": {
    "kernelspec": {
      "display_name": "Python 3",
      "language": "python",
      "name": "python3"
    },
    "language_info": {
      "codemirror_mode": {
        "name": "ipython",
        "version": 3
      },
      "file_extension": ".py",
      "mimetype": "text/x-python",
      "name": "python",
      "nbconvert_exporter": "python",
      "pygments_lexer": "ipython3",
      "version": "3.8.5"
    },
    "colab": {
      "name": "02ex_fundamentals_res.ipynb",
      "provenance": [],
      "collapsed_sections": []
    }
  },
  "cells": [
    {
      "cell_type": "markdown",
      "metadata": {
        "id": "f2Vm8EJVonrO"
      },
      "source": [
        "1. Write the following expressions using the list comprehension"
      ]
    },
    {
      "cell_type": "code",
      "metadata": {
        "colab": {
          "base_uri": "https://localhost:8080/"
        },
        "id": "jBRhtmWsonrW",
        "outputId": "8fe4a258-8b14-4c23-d668-f99f89ccfe9e"
      },
      "source": [
        "# 1\n",
        "ans = []\n",
        "for i in range(3):\n",
        "    for j in range(4):\n",
        "        ans.append((i, j))\n",
        "print(ans)\n",
        "\n",
        "# 2\n",
        "ans = map(lambda x: x * x, filter(lambda x: x % 2 == 1, range(10)))\n",
        "print(list(ans))"
      ],
      "execution_count": 1,
      "outputs": [
        {
          "output_type": "stream",
          "name": "stdout",
          "text": [
            "[(0, 0), (0, 1), (0, 2), (0, 3), (1, 0), (1, 1), (1, 2), (1, 3), (2, 0), (2, 1), (2, 2), (2, 3)]\n",
            "[1, 9, 25, 49, 81]\n"
          ]
        }
      ]
    },
    {
      "cell_type": "code",
      "metadata": {
        "colab": {
          "base_uri": "https://localhost:8080/"
        },
        "id": "gS7a1hrnonrZ",
        "outputId": "d7dab9d7-7afa-4a61-9a47-60253efa1a4d"
      },
      "source": [
        "#1 \n",
        "ans=[(i, j) for j in range(4) for i in range(3)]\n",
        "print(ans)\n",
        "\n",
        "#2\n",
        "ans = [x * x for x in range(10) if x % 2 == 1]\n",
        "print(ans)"
      ],
      "execution_count": 2,
      "outputs": [
        {
          "output_type": "stream",
          "name": "stdout",
          "text": [
            "[(0, 0), (1, 0), (2, 0), (0, 1), (1, 1), (2, 1), (0, 2), (1, 2), (2, 2), (0, 3), (1, 3), (2, 3)]\n",
            "[1, 9, 25, 49, 81]\n"
          ]
        }
      ]
    },
    {
      "cell_type": "markdown",
      "metadata": {
        "id": "O6sCnrsConra"
      },
      "source": [
        "2\\. Convert the function $f$ into a function that doesn't use global variables and that does not modify the original list"
      ]
    },
    {
      "cell_type": "code",
      "metadata": {
        "colab": {
          "base_uri": "https://localhost:8080/"
        },
        "id": "S8hzt3_Ionra",
        "outputId": "759e39e3-8441-45cd-f4a6-a7a2a184f3c9"
      },
      "source": [
        "x = 5\n",
        "def f(alist):\n",
        "    for i in range(x):\n",
        "         alist.append(i)\n",
        "    return alist\n",
        "\n",
        "alist = [1,2,3]\n",
        "ans = f(alist)\n",
        "print(ans)\n",
        "print(alist) # alist has been changed!"
      ],
      "execution_count": 3,
      "outputs": [
        {
          "output_type": "stream",
          "name": "stdout",
          "text": [
            "[1, 2, 3, 0, 1, 2, 3, 4]\n",
            "[1, 2, 3, 0, 1, 2, 3, 4]\n"
          ]
        }
      ]
    },
    {
      "cell_type": "code",
      "metadata": {
        "colab": {
          "base_uri": "https://localhost:8080/"
        },
        "id": "HyVd2ldMonrb",
        "outputId": "684277a7-653f-471f-b8e6-f9968cd561a0"
      },
      "source": [
        "x = 5\n",
        "def f(alist):\n",
        "    alist=alist.copy()\n",
        "    for i in range(x):\n",
        "         alist.append(i)\n",
        "    return alist\n",
        "\n",
        "alist = [1,2,3]\n",
        "ans = f(alist)\n",
        "print(ans)\n",
        "print(alist) # alist has been changed!"
      ],
      "execution_count": 4,
      "outputs": [
        {
          "output_type": "stream",
          "name": "stdout",
          "text": [
            "[1, 2, 3, 0, 1, 2, 3, 4]\n",
            "[1, 2, 3]\n"
          ]
        }
      ]
    },
    {
      "cell_type": "markdown",
      "metadata": {
        "id": "D6CTKeRionrc"
      },
      "source": [
        "3\\. Write a `decorator` hello that makes every wrapped function print “Hello!”, i.e. something like:\n",
        "\n",
        "```python\n",
        "@hello\n",
        "def square(x):\n",
        "    return x*x\n",
        "```\n",
        "\n"
      ]
    },
    {
      "cell_type": "code",
      "metadata": {
        "colab": {
          "base_uri": "https://localhost:8080/"
        },
        "id": "YrKr8pRgonrd",
        "outputId": "fbb016e2-c3ec-4d5c-8096-8ae7b97ec921"
      },
      "source": [
        "def wrapper(func):\n",
        "  def hello(x):\n",
        "    print(\"Hello!\")\n",
        "    x=func(x)\n",
        "    return x \n",
        "  return hello\n",
        "\n",
        "@wrapper\n",
        "def square(x):\n",
        "  return x*x\n",
        "\n",
        "square(5)"
      ],
      "execution_count": 5,
      "outputs": [
        {
          "output_type": "stream",
          "name": "stdout",
          "text": [
            "Hello!\n"
          ]
        },
        {
          "output_type": "execute_result",
          "data": {
            "text/plain": [
              "25"
            ]
          },
          "metadata": {},
          "execution_count": 5
        }
      ]
    },
    {
      "cell_type": "markdown",
      "metadata": {
        "id": "D8oiLM_Eonre"
      },
      "source": [
        "4\\. Write the factorial function in two different ways, so that it a) does and b) does not use recursion."
      ]
    },
    {
      "cell_type": "code",
      "metadata": {
        "colab": {
          "base_uri": "https://localhost:8080/"
        },
        "id": "haTKfM0DtXHM",
        "outputId": "b84cfb57-ac47-4ddc-8bc0-3ed78bd4e192"
      },
      "source": [
        "#a\n",
        "def factorial(n):\n",
        "  if n == 1:\n",
        "    return 1\n",
        "  return n*factorial(n-1)\n",
        "print(factorial(5))"
      ],
      "execution_count": 6,
      "outputs": [
        {
          "output_type": "stream",
          "name": "stdout",
          "text": [
            "120\n"
          ]
        }
      ]
    },
    {
      "cell_type": "code",
      "metadata": {
        "colab": {
          "base_uri": "https://localhost:8080/"
        },
        "id": "SsvIqmF5onrf",
        "outputId": "eafd10d4-051e-439d-b711-a553510ef92d"
      },
      "source": [
        "#b\n",
        "def factorial(n):\n",
        "  res=1\n",
        "  for i in range(1,n+1):\n",
        "    res*=i\n",
        "  return res\n",
        "print(factorial(5))"
      ],
      "execution_count": 7,
      "outputs": [
        {
          "output_type": "stream",
          "name": "stdout",
          "text": [
            "120\n"
          ]
        }
      ]
    },
    {
      "cell_type": "markdown",
      "metadata": {
        "id": "AcKZ5YUDonrg"
      },
      "source": [
        "5\\. Use HOFs (zip in particular) to compute the weight of a circle, a disk and a sphere, assuming different radii and different densities:\n",
        "\n",
        "```python\n",
        "densities = {\"Al\" : [0.5, 1, 2], \"Fe\" : [3, 4, 5], \"Pb\" : [15, 20, 30]}\n",
        "radii = [1, 2, 3]\n",
        "```\n",
        "\n",
        "where the entries of the dictionary's values are the linear, superficial and volumetric densities of the materials respectively.\n",
        "\n",
        "Subsequently, define a list using a comprehension with three lambda functions that compute the circumference, the area and the volume for a given radius.\n"
      ]
    },
    {
      "cell_type": "code",
      "metadata": {
        "id": "viezNaa_Y4t9"
      },
      "source": [
        "from math import pi\n",
        "densities = {\"Al\" : [0.5, 1, 2], \"Fe\" : [3, 4, 5], \"Pb\" : [15, 20, 30]}\n",
        "radii = [1, 2, 3]"
      ],
      "execution_count": 8,
      "outputs": []
    },
    {
      "cell_type": "code",
      "metadata": {
        "id": "f4h9UbJUonrh",
        "colab": {
          "base_uri": "https://localhost:8080/"
        },
        "outputId": "e2f5f413-7e62-4a9a-c2cd-c16b5b2f9bc7"
      },
      "source": [
        "mesures=[[(lambda x: 2 * pi * x)(x), (lambda x: pi * (x ** 2))(x), (lambda x: 4/3 * pi * (x ** 3))(x)] for x in radii]\n",
        "print(mesures)"
      ],
      "execution_count": 9,
      "outputs": [
        {
          "output_type": "stream",
          "name": "stdout",
          "text": [
            "[[6.283185307179586, 3.141592653589793, 4.1887902047863905], [12.566370614359172, 12.566370614359172, 33.510321638291124], [18.84955592153876, 28.274333882308138, 113.09733552923254]]\n"
          ]
        }
      ]
    },
    {
      "cell_type": "code",
      "metadata": {
        "id": "YIliyGNguY6G"
      },
      "source": [
        "weights=[densityz*mesurez for density,mesure in zip(densities.values(),mesures) for densityz,mesurez in zip(density,mesure)]"
      ],
      "execution_count": 10,
      "outputs": []
    },
    {
      "cell_type": "code",
      "metadata": {
        "colab": {
          "base_uri": "https://localhost:8080/"
        },
        "id": "kYFFbh0mvcO_",
        "outputId": "a5c0c259-5300-40b5-d06e-f1c06db540ec"
      },
      "source": [
        "print(weights)"
      ],
      "execution_count": 11,
      "outputs": [
        {
          "output_type": "stream",
          "name": "stdout",
          "text": [
            "[3.141592653589793, 3.141592653589793, 8.377580409572781, 37.69911184307752, 50.26548245743669, 167.5516081914556, 282.7433388230814, 565.4866776461628, 3392.920065876976]\n"
          ]
        }
      ]
    },
    {
      "cell_type": "markdown",
      "metadata": {
        "id": "IqOUaGjvonri"
      },
      "source": [
        "6\\. Edit the class defintion to add an instance attribute of `is_hungry = True` to the Dog class. Then add a method called `eat()` which changes the value of `is_hungry` to `False` when called. Figure out the best way to instantiate the dog objects and to feed the dogs, e.g. call the `eat()` method for all instances. Finally, print “My dogs are hungry.” or “My dogs are not hungry.” if all of them have `is_hungry = True` or `False`, respectively. The final output should look like this:\n",
        "\n",
        "`I have 3 dogs. \n",
        "Tom is 6. \n",
        "Fletcher is 7. \n",
        "Larry is 9. \n",
        "And they're all mammals, of course. \n",
        "My dogs are not hungry.\n",
        "`\n",
        "\n",
        "```python\n",
        "# Parent class\n",
        "class Dog:\n",
        "\n",
        "    # Class attribute\n",
        "    species = 'mammal'\n",
        "\n",
        "    # Initializer / Instance attributes\n",
        "    def __init__(self, name, age):\n",
        "        self.name = name\n",
        "        self.age = age\n",
        "\n",
        "    # instance method\n",
        "    def description(self):\n",
        "        return \"{} is {} years old\".format(self.name, self.age)\n",
        "\n",
        "    # instance method\n",
        "    def speak(self, sound):\n",
        "        return \"{} says {}\".format(self.name, sound)\n",
        "\n",
        "# Child class (inherits from Dog class)\n",
        "class RussellTerrier(Dog):\n",
        "    def run(self, speed):\n",
        "        return \"{} runs {}\".format(self.name, speed)\n",
        "\n",
        "# Child class (inherits from Dog class)\n",
        "class Bulldog(Dog):\n",
        "    def run(self, speed):\n",
        "        return \"{} runs {}\".format(self.name, speed)\n",
        "```"
      ]
    },
    {
      "cell_type": "code",
      "metadata": {
        "id": "aJfhHF3Konrk"
      },
      "source": [
        "# Parent class\n",
        "class Dog:\n",
        "\n",
        "    # Class attribute\n",
        "    species = 'mammal'\n",
        "\n",
        "    # Initializer / Instance attributes\n",
        "    def __init__(self, name, age, is_hungry = True):\n",
        "        self.name = name\n",
        "        self.age = age\n",
        "        self.is_hungry = is_hungry\n",
        "\n",
        "    # instance method\n",
        "    def description(self):\n",
        "        return \"{} is {} years old\".format(self.name, self.age)\n",
        "\n",
        "    # instance method\n",
        "    def speak(self, sound):\n",
        "        return \"{} says {}\".format(self.name, sound)\n",
        "    \n",
        "    # instance method\n",
        "    def eat(self):\n",
        "      self.is_hungry = False\n",
        "      \n",
        "\n",
        "# Child class (inherits from Dog class)\n",
        "class RussellTerrier(Dog):\n",
        "    def run(self, speed):\n",
        "        return \"{} runs {}\".format(self.name, speed)\n",
        "\n",
        "# Child class (inherits from Dog class)\n",
        "class Bulldog(Dog):\n",
        "    def run(self, speed):\n",
        "        return \"{} runs {}\".format(self.name, speed)"
      ],
      "execution_count": 12,
      "outputs": []
    },
    {
      "cell_type": "code",
      "metadata": {
        "colab": {
          "base_uri": "https://localhost:8080/"
        },
        "id": "FsCemM-8EWhC",
        "outputId": "6ffbd918-d805-4cd1-f859-b3bc7a1e11db"
      },
      "source": [
        "dogs=[Dog(\"Tom\", 6), Dog(\"Fletcher\", 7), Dog(\"Larry\", 9)]\n",
        "print(f\"I have {len(dogs)} dogs. \", end=\"\")\n",
        "Hungry = False\n",
        "for dog in dogs:\n",
        "  dog.eat()\n",
        "  print(dog.description(), end=\". \")\n",
        "  if dog.is_hungry :\n",
        "    Hungry = True\n",
        "print(f\"And they're all {Dog.species}, of course.\", end=\" \")\n",
        "if Hungry:\n",
        "  print(\"My dogs are hungry.\")  \n",
        "else:\n",
        "  print(\"My dogs are not hungry.\")"
      ],
      "execution_count": 13,
      "outputs": [
        {
          "output_type": "stream",
          "name": "stdout",
          "text": [
            "I have 3 dogs. Tom is 6 years old. Fletcher is 7 years old. Larry is 9 years old. And they're all mammal, of course. My dogs are not hungry.\n"
          ]
        }
      ]
    },
    {
      "cell_type": "code",
      "metadata": {
        "id": "k3P2ca64GCGF"
      },
      "source": [
        ""
      ],
      "execution_count": 13,
      "outputs": []
    }
  ]
}